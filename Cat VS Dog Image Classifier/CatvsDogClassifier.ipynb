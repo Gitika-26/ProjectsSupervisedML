{
 "cells": [
  {
   "cell_type": "code",
   "execution_count": 14,
   "id": "ec0dc3f3-bd6a-4042-b5a2-27adb3fc615c",
   "metadata": {},
   "outputs": [
    {
     "name": "stdout",
     "output_type": "stream",
     "text": [
      "Data shape: (202, 12288)\n",
      "Labels shape: (202,)\n"
     ]
    }
   ],
   "source": [
    "import os\n",
    "from skimage.io import imread\n",
    "from skimage.transform import resize\n",
    "import numpy as np\n",
    "from sklearn.model_selection import train_test_split, GridSearchCV\n",
    "from sklearn.svm import SVC\n",
    "from sklearn.metrics import accuracy_score\n",
    "import pickle\n",
    "\n",
    "# Define the input directories for cats and dogs\n",
    "cat_dir = r\"C:/Users/phgtk/Datasets/Cat\"\n",
    "dog_dir = r\"C:/Users/phgtk/Datasets/Dog\"\n",
    "\n",
    "# Initialize data and labels lists\n",
    "data = []\n",
    "labels = []\n",
    "\n",
    "# Set the image size\n",
    "img_size = (64, 64)  # Resize images to 64x64 pixels\n",
    "\n",
    "# Function to load images from a directory and assign a label\n",
    "def load_images_from_directory(directory, label):\n",
    "    for file in os.listdir(directory):\n",
    "        img_path = os.path.join(directory, file)\n",
    "        if img_path.endswith('.jpg') or img_path.endswith('.jpeg') or img_path.endswith('.png'):  # Only process image files\n",
    "            img = imread(img_path)\n",
    "            img = resize(img, img_size)  # Resize images\n",
    "            data.append(img.flatten())\n",
    "            labels.append(label)\n",
    "\n",
    "# Load cat images (label = 0)\n",
    "load_images_from_directory(cat_dir, 0)\n",
    "\n",
    "#Load dog images (label = 1)\n",
    "load_images_from_directory(dog_dir, 1)\n",
    "\n",
    "# Convert lists to numpy arrays\n",
    "data = np.asarray(data)\n",
    "labels = np.asarray(labels)\n",
    "\n",
    "# Print the shapes of the data and labels arrays to confirm successful loading\n",
    "print(f\"Data shape: {data.shape}\")\n",
    "print(f\"Labels shape: {labels.shape}\")\n",
    "\n",
    "\n"
   ]
  },
  {
   "cell_type": "code",
   "execution_count": 15,
   "id": "01d8fbdf-853d-4faf-8a29-bb153f018e6e",
   "metadata": {},
   "outputs": [
    {
     "name": "stdout",
     "output_type": "stream",
     "text": [
      "41\n"
     ]
    }
   ],
   "source": [
    "# Split data into training and test sets\n",
    "X_train, X_test, y_train, y_test = train_test_split(data, labels, test_size=0.2, shuffle=True, stratify=labels)\n",
    "\n",
    "print(len(y_test))"
   ]
  },
  {
   "cell_type": "code",
   "execution_count": 16,
   "id": "7dc06716-e5a9-42a8-bfd2-8e33138b5ad2",
   "metadata": {},
   "outputs": [
    {
     "name": "stdout",
     "output_type": "stream",
     "text": [
      "Fitting 5 folds for each of 32 candidates, totalling 160 fits\n",
      "Best parameters found: {'C': 0.1, 'gamma': 1, 'kernel': 'linear'}\n",
      "0.5365853658536586\n",
      "53.65853658536586% of samples were correctly classified\n"
     ]
    }
   ],
   "source": [
    "# Initialize the SVM classifier\n",
    "svc = SVC(probability=True)\n",
    "param_grid = {\n",
    "    'C': [0.1, 1, 10, 100],       # Regularization parameter\n",
    "    'gamma': [1, 0.1, 0.01, 0.001], # Kernel coefficient for 'rbf'\n",
    "    'kernel': ['linear', 'rbf']   # Kernel type\n",
    "}\n",
    "\n",
    "\n",
    "# Initialize GridSearchCV\n",
    "grid_search = GridSearchCV(estimator=svc, param_grid=param_grid, cv=5, verbose=2, n_jobs=-1)\n",
    "grid_search.fit(X_train, y_train)\n",
    "best_estimator = grid_search.best_estimator_\n",
    "\n",
    "# Print the best parameters found by GridSearchCV\n",
    "print(f\"Best parameters found: {grid_search.best_params_}\")\n",
    "\n",
    "y_pred = grid_search.predict(X_test)\n",
    "\n",
    "\n",
    "# Calculate the accuracy of the predictions\n",
    "score = accuracy_score(y_pred, y_test)\n",
    "print(score)\n",
    "\n",
    "# Print the accuracy\n",
    "print('{}% of samples were correctly classified'.format(str(score * 100)))\n",
    "\n",
    "# Save the best estimator using pickle\n",
    "pickle.dump(svc, open('cat_dog_classifier_model.p', 'wb'))\n"
   ]
  },
  {
   "cell_type": "code",
   "execution_count": 18,
   "id": "07cf07bc-fb98-406f-a10c-6ce5ee31596e",
   "metadata": {},
   "outputs": [
    {
     "name": "stdout",
     "output_type": "stream",
     "text": [
      "Fitting 5 folds for each of 32 candidates, totalling 160 fits\n",
      "The image is classified as: Cat\n"
     ]
    }
   ],
   "source": [
    "def classify_image(image_path, model_path='cat_dog_classifier_model.p'):\n",
    "    # Load the trained model\n",
    "    grid_search.fit(X_train, y_train)\n",
    "    \n",
    "    # Read and preprocess the image\n",
    "    img = imread(image_path)\n",
    "    img = resize(img, img_size)  # Resize to the same size as training images\n",
    "    img_flattened = img.flatten().reshape(1, -1)  # Flatten and reshape for the model\n",
    "    \n",
    "    # Make a prediction\n",
    "    prediction = grid_search.predict(img_flattened)\n",
    "    label = 'Cat' if prediction == 0 else 'Dog'\n",
    "    \n",
    "    return label\n",
    "\n",
    "# Example usage\n",
    "image_path = r\"C:/Users/phgtk/Datasets/Cat/3.jpg\"\n",
    "label = classify_image(image_path)\n",
    "print(f'The image is classified as: {label}')"
   ]
  },
  {
   "cell_type": "code",
   "execution_count": null,
   "id": "a55cf58a-5f1d-4a5a-bf0c-034f1d0426d0",
   "metadata": {},
   "outputs": [],
   "source": []
  }
 ],
 "metadata": {
  "kernelspec": {
   "display_name": "Python 3 (ipykernel)",
   "language": "python",
   "name": "python3"
  },
  "language_info": {
   "codemirror_mode": {
    "name": "ipython",
    "version": 3
   },
   "file_extension": ".py",
   "mimetype": "text/x-python",
   "name": "python",
   "nbconvert_exporter": "python",
   "pygments_lexer": "ipython3",
   "version": "3.12.2"
  }
 },
 "nbformat": 4,
 "nbformat_minor": 5
}
